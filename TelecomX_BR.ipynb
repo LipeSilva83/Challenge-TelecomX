{
  "cells": [
    {
      "cell_type": "markdown",
      "metadata": {
        "id": "4foVEKhrlqcH"
      },
      "source": [
        "#📌 Extracão"
      ]
    },
    {
      "cell_type": "code",
      "execution_count": null,
      "metadata": {},
      "outputs": [],
      "source": [
        "!pip install pandas\n",
        "!pip install matplotlib seaborn\n",
        "!pip install numpy"
      ]
    },
    {
      "cell_type": "code",
      "execution_count": 2,
      "metadata": {},
      "outputs": [],
      "source": [
        "import pandas as pd\n",
        "import matplotlib.pyplot as plt\n",
        "import seaborn as sns\n",
        "import numpy as np\n",
        "import json"
      ]
    },
    {
      "cell_type": "code",
      "execution_count": null,
      "metadata": {
        "id": "1--uPM88l7JH"
      },
      "outputs": [],
      "source": [
        "df = pd.read_json('https://raw.githubusercontent.com/alura-cursos/challenge2-data-science/refs/heads/main/TelecomX_Data.json')\n",
        "df.head()"
      ]
    },
    {
      "cell_type": "markdown",
      "metadata": {
        "id": "1lSZP8zmmGZu"
      },
      "source": [
        "#🔧 Transformação"
      ]
    },
    {
      "cell_type": "code",
      "execution_count": null,
      "metadata": {
        "id": "bsm-WTLjmHvt"
      },
      "outputs": [],
      "source": [
        "df_norm_customer  = pd.json_normalize(df['customer'])\n",
        "df_norm_internet  = pd.json_normalize(df['internet'])\n",
        "df_norm_phone  = pd.json_normalize(df['phone'])\n",
        "df_norm_account = pd.json_normalize(df['account'])\n",
        "\n",
        "df_normalizado = pd.concat([df[['customerID', 'Churn']], df_norm_customer, df_norm_phone, df_norm_internet , df_norm_account], axis=1)\n",
        "display(df_normalizado.head())   \n"
      ]
    },
    {
      "cell_type": "code",
      "execution_count": null,
      "metadata": {},
      "outputs": [],
      "source": [
        "df_normalizado[['Churn', 'SeniorCitizen','gender','Partner','Dependents','PhoneService','MultipleLines','OnlineBackup','DeviceProtection','TechSupport','StreamingTV','StreamingMovies','PaperlessBilling']] = df_normalizado[['Churn','SeniorCitizen' , 'gender','Partner','Dependents','PhoneService','MultipleLines','OnlineBackup','DeviceProtection','TechSupport','StreamingTV','StreamingMovies','PaperlessBilling']].astype('category')\n",
        "df_normalizado.info()"
      ]
    },
    {
      "cell_type": "code",
      "execution_count": null,
      "metadata": {},
      "outputs": [],
      "source": [
        "new_column_names = {\n",
        "    'tenure': 'Ternure',\n",
        "    'Charges.Monthly': 'ChargesMonthly',\n",
        "    'Charges.Total': 'ChargesTotal',\n",
        "    'gender': 'Gender'\n",
        "}\n",
        "\n",
        "df_normalizado = df_normalizado.rename(columns=new_column_names)\n",
        "\n",
        "display(df_normalizado.head())"
      ]
    },
    {
      "cell_type": "code",
      "execution_count": null,
      "metadata": {},
      "outputs": [],
      "source": [
        "print(\"Valores Ausentes:\")\n",
        "print(df_normalizado.isnull().sum())\n",
        "\n",
        "print(\"\\nLinhas Duplicadas:\")\n",
        "print(df_normalizado.duplicated().sum())\n",
        "\n",
        "\n",
        "print(\"\\nVerificando Inconsistências em Colunas Categóricas:\")\n",
        "categorical_cols = df_normalizado.select_dtypes(include='category').columns\n",
        "for col in categorical_cols:\n",
        "    print(f\"\\nColuna: {col}\")\n",
        "    print(df_normalizado[col].value_counts())\n",
        "\n",
        "object_cols = df_normalizado.select_dtypes(include='object').columns\n",
        "print(\"\\nVerificando Inconsistências em Colunas de Objeto:\")\n",
        "for col in object_cols:\n",
        "    print(f\"\\nColuna: {col}\")\n",
        "    print(df_normalizado[col].value_counts())"
      ]
    },
    {
      "cell_type": "code",
      "execution_count": null,
      "metadata": {},
      "outputs": [],
      "source": [
        "import numpy as np\n",
        "\n",
        "\n",
        "df_normalizado['ChargesTotal'] = df_normalizado['ChargesTotal'].replace(' ', np.nan)\n",
        "df_normalizado['ChargesTotal'] = pd.to_numeric(df_normalizado['ChargesTotal'])\n",
        "df_normalizado['ChargesTotal'] = df_normalizado['ChargesTotal'].fillna(0)\n",
        "\n",
        "df_normalizado['Churn'] = df_normalizado['Churn'].replace('', np.nan)\n",
        "df_normalizado['Churn'] = df_normalizado['Churn'].fillna('No')\n",
        "\n",
        "\n",
        "df_normalizado[col] = df_normalizado.apply(\n",
        "   lambda row: 'No' if row['InternetService'] == 'No' and row[col] == 'No internet service' else row[col],\n",
        "        axis=1\n",
        "    )\n",
        "\n",
        "df_normalizado[col] = df_normalizado.apply(\n",
        "    lambda row: 'No' if row['PhoneService'] == 'No' and row[col] == 'No phone service' else row[col],\n",
        "            axis=1\n",
        "        )\n",
        "\n",
        "\n",
        "\n",
        "print(\"Verificação após a correção:\")\n",
        "print(\"\\nValores Ausentes:\")\n",
        "print(df_normalizado.isnull().sum())\n",
        "\n",
        "print(\"\\nVerificando Inconsistências em Colunas Categóricas (após correção):\")\n",
        "categorical_cols = df_normalizado.select_dtypes(include='category').columns\n",
        "for col in categorical_cols:\n",
        "    print(f\"\\nColuna: {col}\")\n",
        "    print(df_normalizado[col].value_counts())\n",
        "\n",
        "print(\"\\nVerificando Inconsistências em Colunas de Objeto (após correção):\")\n",
        "object_cols = df_normalizado.select_dtypes(include='object').columns\n",
        "for col in object_cols:\n",
        "    print(f\"\\nColuna: {col}\")\n",
        "    print(df_normalizado[col].value_counts())\n",
        "\n",
        "\n",
        "print(\"\\nVerificando a coluna Churn após preencher NaNs:\")\n",
        "print(df_normalizado['Churn'].value_counts()) "
      ]
    },
    {
      "cell_type": "code",
      "execution_count": null,
      "metadata": {},
      "outputs": [],
      "source": [
        "df_normalizado['Contas_Diarias'] = df_normalizado['ChargesMonthly'] / 30\n",
        "display(df_normalizado.head())"
      ]
    },
    {
      "cell_type": "code",
      "execution_count": 12,
      "metadata": {},
      "outputs": [],
      "source": [
        "coluna_nomes = df_normalizado.columns.tolist()\n",
        "nomes_traduzidos = ['customerID',\n",
        "'Rotatividade',\n",
        "'Sexo',\n",
        "'Idoso',\n",
        "'Parceiro',\n",
        "'Dependentes',\n",
        "'Termo',\n",
        "'Serviço Telefônico',\n",
        "'Várias Linhas',\n",
        "'Serviço de Internet',\n",
        "'Segurança Online',\n",
        "'Backup Online',\n",
        "'Proteção do Dispositivo',\n",
        "'Suporte Técnico',\n",
        "'Streaming de TV',\n",
        "'Streaming de Filmes',\n",
        "'Contrato',\n",
        "'Faturamento Eletrônico',\n",
        "'Forma de Pagamento',\n",
        "'Cobrança Mensal',\n",
        "'Cobrança Total',\n",
        "'Contas_Diárias']\n"
      ]
    },
    {
      "cell_type": "code",
      "execution_count": 13,
      "metadata": {},
      "outputs": [
        {
          "name": "stdout",
          "output_type": "stream",
          "text": [
            "\n",
            "Novos nomes das colunas:\n",
            "['customerID', 'Rotatividade', 'Sexo', 'Idoso', 'Parceiro', 'Dependentes', 'Termo', 'Serviço Telefônico', 'Várias Linhas', 'Serviço de Internet', 'Segurança Online', 'Backup Online', 'Proteção do Dispositivo', 'Suporte Técnico', 'Streaming de TV', 'Streaming de Filmes', 'Contrato', 'Faturamento Eletrônico', 'Forma de Pagamento', 'Cobrança Mensal', 'Cobrança Total', 'Contas_Diárias']\n"
          ]
        }
      ],
      "source": [
        "dic_rename = dict(zip(coluna_nomes, nomes_traduzidos))\n",
        "\n",
        "df_normalizado = df_normalizado.rename(columns=dic_rename)\n",
        "\n",
        "print(\"\\nNovos nomes das colunas:\")\n",
        "print(df_normalizado.columns.tolist())"
      ]
    },
    {
      "cell_type": "code",
      "execution_count": 14,
      "metadata": {},
      "outputs": [
        {
          "name": "stdout",
          "output_type": "stream",
          "text": [
            "['customerID', 'Rotatividade', 'Sexo', 'Idoso', 'Parceiro', 'Dependentes', 'Termo', 'Serviço_Telefônico', 'Várias_Linhas', 'Serviço_de_Internet', 'Segurança_Online', 'Backup_Online', 'Proteção_do_Dispositivo', 'Suporte_Técnico', 'Streaming_de_TV', 'Streaming_de_Filmes', 'Contrato', 'Faturamento_Eletrônico', 'Forma_de_Pagamento', 'Cobrança_Mensal', 'Cobrança_Total', 'Contas_Diárias']\n"
          ]
        }
      ],
      "source": [
        "df_normalizado.columns = df_normalizado.columns.str.replace(' ', '_')\n",
        "print(df_normalizado.columns.tolist())"
      ]
    },
    {
      "cell_type": "markdown",
      "metadata": {
        "id": "6XnTC2NTmMRL"
      },
      "source": [
        "#📊 Carga e análise"
      ]
    },
    {
      "cell_type": "code",
      "execution_count": null,
      "metadata": {
        "id": "1jgUnLqTmPdd"
      },
      "outputs": [],
      "source": []
    },
    {
      "cell_type": "markdown",
      "metadata": {
        "id": "v-WzfSvTmaw9"
      },
      "source": [
        "#📄Relatorio Final"
      ]
    },
    {
      "cell_type": "code",
      "execution_count": null,
      "metadata": {
        "id": "XMTac0YJmeK9"
      },
      "outputs": [],
      "source": []
    }
  ],
  "metadata": {
    "colab": {
      "provenance": []
    },
    "kernelspec": {
      "display_name": "Python 3",
      "name": "python3"
    },
    "language_info": {
      "codemirror_mode": {
        "name": "ipython",
        "version": 3
      },
      "file_extension": ".py",
      "mimetype": "text/x-python",
      "name": "python",
      "nbconvert_exporter": "python",
      "pygments_lexer": "ipython3",
      "version": "3.10.12"
    }
  },
  "nbformat": 4,
  "nbformat_minor": 0
}
