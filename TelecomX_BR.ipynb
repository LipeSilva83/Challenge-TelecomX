{
  "cells": [
    {
      "cell_type": "markdown",
      "metadata": {
        "id": "4foVEKhrlqcH"
      },
      "source": [
        "#📌 Extracão"
      ]
    },
    {
      "cell_type": "code",
      "execution_count": null,
      "metadata": {},
      "outputs": [],
      "source": [
        "!pip install pandas\n",
        "!pip install matplotlib seaborn\n",
        "!pip install numpy"
      ]
    },
    {
      "cell_type": "code",
      "execution_count": 2,
      "metadata": {},
      "outputs": [],
      "source": [
        "import pandas as pd\n",
        "import matplotlib.pyplot as plt\n",
        "import seaborn as sns\n",
        "import numpy as np\n",
        "import json"
      ]
    },
    {
      "cell_type": "code",
      "execution_count": null,
      "metadata": {
        "id": "1--uPM88l7JH"
      },
      "outputs": [],
      "source": [
        "df = pd.read_json('https://raw.githubusercontent.com/alura-cursos/challenge2-data-science/refs/heads/main/TelecomX_Data.json')\n",
        "df.head()"
      ]
    },
    {
      "cell_type": "markdown",
      "metadata": {
        "id": "1lSZP8zmmGZu"
      },
      "source": [
        "#🔧 Transformação"
      ]
    },
    {
      "cell_type": "code",
      "execution_count": null,
      "metadata": {
        "id": "bsm-WTLjmHvt"
      },
      "outputs": [],
      "source": [
        "df_norm_customer  = pd.json_normalize(df['customer'])\n",
        "df_norm_internet  = pd.json_normalize(df['internet'])\n",
        "df_norm_phone  = pd.json_normalize(df['phone'])\n",
        "df_norm_account = pd.json_normalize(df['account'])\n",
        "\n",
        "df_normalizado = pd.concat([df[['customerID', 'Churn']], df_norm_customer, df_norm_phone, df_norm_internet , df_norm_account], axis=1)\n",
        "display(df_normalizado.head())   \n"
      ]
    },
    {
      "cell_type": "code",
      "execution_count": null,
      "metadata": {},
      "outputs": [],
      "source": [
        "df_normalizado[['Churn', 'SeniorCitizen','gender','Partner','Dependents','PhoneService','MultipleLines','OnlineBackup','DeviceProtection','TechSupport','StreamingTV','StreamingMovies','PaperlessBilling']] = df_normalizado[['Churn','SeniorCitizen' , 'gender','Partner','Dependents','PhoneService','MultipleLines','OnlineBackup','DeviceProtection','TechSupport','StreamingTV','StreamingMovies','PaperlessBilling']].astype('category')\n",
        "df_normalizado.info()"
      ]
    },
    {
      "cell_type": "code",
      "execution_count": null,
      "metadata": {},
      "outputs": [],
      "source": [
        "new_column_names = {\n",
        "    'tenure': 'Ternure',\n",
        "    'Charges.Monthly': 'ChargesMonthly',\n",
        "    'Charges.Total': 'ChargesTotal',\n",
        "    'gender': 'Gender'\n",
        "}\n",
        "\n",
        "df_normalizado = df_normalizado.rename(columns=new_column_names)\n",
        "\n",
        "display(df_normalizado.head())"
      ]
    },
    {
      "cell_type": "code",
      "execution_count": null,
      "metadata": {},
      "outputs": [],
      "source": [
        "print(\"Valores Ausentes:\")\n",
        "print(df_normalizado.isnull().sum())\n",
        "\n",
        "print(\"\\nLinhas Duplicadas:\")\n",
        "print(df_normalizado.duplicated().sum())\n",
        "\n",
        "\n",
        "print(\"\\nVerificando Inconsistências em Colunas Categóricas:\")\n",
        "categorical_cols = df_normalizado.select_dtypes(include='category').columns\n",
        "for col in categorical_cols:\n",
        "    print(f\"\\nColuna: {col}\")\n",
        "    print(df_normalizado[col].value_counts())\n",
        "\n",
        "object_cols = df_normalizado.select_dtypes(include='object').columns\n",
        "print(\"\\nVerificando Inconsistências em Colunas de Objeto:\")\n",
        "for col in object_cols:\n",
        "    print(f\"\\nColuna: {col}\")\n",
        "    print(df_normalizado[col].value_counts())"
      ]
    },
    {
      "cell_type": "code",
      "execution_count": 10,
      "metadata": {},
      "outputs": [
        {
          "name": "stdout",
          "output_type": "stream",
          "text": [
            "Verificação após a correção:\n",
            "\n",
            "Valores Ausentes:\n",
            "customerID          0\n",
            "Churn               0\n",
            "Gender              0\n",
            "SeniorCitizen       0\n",
            "Partner             0\n",
            "Dependents          0\n",
            "Ternure             0\n",
            "PhoneService        0\n",
            "MultipleLines       0\n",
            "InternetService     0\n",
            "OnlineSecurity      0\n",
            "OnlineBackup        0\n",
            "DeviceProtection    0\n",
            "TechSupport         0\n",
            "StreamingTV         0\n",
            "StreamingMovies     0\n",
            "Contract            0\n",
            "PaperlessBilling    0\n",
            "PaymentMethod       0\n",
            "ChargesMonthly      0\n",
            "ChargesTotal        0\n",
            "dtype: int64\n",
            "\n",
            "Verificando Inconsistências em Colunas Categóricas (após correção):\n",
            "\n",
            "Coluna: Churn\n",
            "Churn\n",
            "No     5398\n",
            "Yes    1869\n",
            "Name: count, dtype: int64\n",
            "\n",
            "Coluna: Gender\n",
            "Gender\n",
            "Male      3675\n",
            "Female    3592\n",
            "Name: count, dtype: int64\n",
            "\n",
            "Coluna: SeniorCitizen\n",
            "SeniorCitizen\n",
            "0    6085\n",
            "1    1182\n",
            "Name: count, dtype: int64\n",
            "\n",
            "Coluna: Partner\n",
            "Partner\n",
            "No     3749\n",
            "Yes    3518\n",
            "Name: count, dtype: int64\n",
            "\n",
            "Coluna: Dependents\n",
            "Dependents\n",
            "No     5086\n",
            "Yes    2181\n",
            "Name: count, dtype: int64\n",
            "\n",
            "Coluna: PhoneService\n",
            "PhoneService\n",
            "Yes    6560\n",
            "No      707\n",
            "Name: count, dtype: int64\n",
            "\n",
            "Coluna: MultipleLines\n",
            "MultipleLines\n",
            "No                  3495\n",
            "Yes                 3065\n",
            "No phone service     707\n",
            "Name: count, dtype: int64\n",
            "\n",
            "Coluna: OnlineBackup\n",
            "OnlineBackup\n",
            "No                     3182\n",
            "Yes                    2504\n",
            "No internet service    1581\n",
            "Name: count, dtype: int64\n",
            "\n",
            "Coluna: DeviceProtection\n",
            "DeviceProtection\n",
            "No                     3195\n",
            "Yes                    2491\n",
            "No internet service    1581\n",
            "Name: count, dtype: int64\n",
            "\n",
            "Coluna: TechSupport\n",
            "TechSupport\n",
            "No                     3582\n",
            "Yes                    2104\n",
            "No internet service    1581\n",
            "Name: count, dtype: int64\n",
            "\n",
            "Coluna: StreamingTV\n",
            "StreamingTV\n",
            "No                     2896\n",
            "Yes                    2790\n",
            "No internet service    1581\n",
            "Name: count, dtype: int64\n",
            "\n",
            "Coluna: StreamingMovies\n",
            "StreamingMovies\n",
            "No                     2870\n",
            "Yes                    2816\n",
            "No internet service    1581\n",
            "Name: count, dtype: int64\n",
            "\n",
            "Coluna: PaperlessBilling\n",
            "PaperlessBilling\n",
            "Yes    4311\n",
            "No     2956\n",
            "Name: count, dtype: int64\n",
            "\n",
            "Verificando Inconsistências em Colunas de Objeto (após correção):\n",
            "\n",
            "Coluna: customerID\n",
            "customerID\n",
            "9995-HOTOH    1\n",
            "0002-ORFBO    1\n",
            "0003-MKNFE    1\n",
            "9970-QBCDA    1\n",
            "9968-FFVVH    1\n",
            "             ..\n",
            "0014-BMAQU    1\n",
            "0013-SMEOE    1\n",
            "0013-MHZWF    1\n",
            "0013-EXCHZ    1\n",
            "0011-IGKFF    1\n",
            "Name: count, Length: 7267, dtype: int64\n",
            "\n",
            "Coluna: InternetService\n",
            "InternetService\n",
            "Fiber optic    3198\n",
            "DSL            2488\n",
            "No             1581\n",
            "Name: count, dtype: int64\n",
            "\n",
            "Coluna: OnlineSecurity\n",
            "OnlineSecurity\n",
            "No                     3608\n",
            "Yes                    2078\n",
            "No internet service    1581\n",
            "Name: count, dtype: int64\n",
            "\n",
            "Coluna: Contract\n",
            "Contract\n",
            "Month-to-month    4005\n",
            "Two year          1743\n",
            "One year          1519\n",
            "Name: count, dtype: int64\n",
            "\n",
            "Coluna: PaymentMethod\n",
            "PaymentMethod\n",
            "Electronic check             2445\n",
            "Mailed check                 1665\n",
            "Bank transfer (automatic)    1589\n",
            "Credit card (automatic)      1568\n",
            "Name: count, dtype: int64\n",
            "\n",
            "Verificando a coluna Churn após preencher NaNs:\n",
            "Churn\n",
            "No     5398\n",
            "Yes    1869\n",
            "Name: count, dtype: int64\n"
          ]
        },
        {
          "name": "stderr",
          "output_type": "stream",
          "text": [
            "/tmp/ipykernel_1915/1656006873.py:8: FutureWarning: The behavior of Series.replace (and DataFrame.replace) with CategoricalDtype is deprecated. In a future version, replace will only be used for cases that preserve the categories. To change the categories, use ser.cat.rename_categories instead.\n",
            "  df_normalizado['Churn'] = df_normalizado['Churn'].replace('', np.nan)\n"
          ]
        }
      ],
      "source": [
        "import numpy as np\n",
        "\n",
        "\n",
        "df_normalizado['ChargesTotal'] = df_normalizado['ChargesTotal'].replace(' ', np.nan)\n",
        "df_normalizado['ChargesTotal'] = pd.to_numeric(df_normalizado['ChargesTotal'])\n",
        "df_normalizado['ChargesTotal'] = df_normalizado['ChargesTotal'].fillna(0)\n",
        "\n",
        "df_normalizado['Churn'] = df_normalizado['Churn'].replace('', np.nan)\n",
        "df_normalizado['Churn'] = df_normalizado['Churn'].fillna('No')\n",
        "\n",
        "\n",
        "df_normalizado[col] = df_normalizado.apply(\n",
        "   lambda row: 'No' if row['InternetService'] == 'No' and row[col] == 'No internet service' else row[col],\n",
        "        axis=1\n",
        "    )\n",
        "\n",
        "df_normalizado[col] = df_normalizado.apply(\n",
        "    lambda row: 'No' if row['PhoneService'] == 'No' and row[col] == 'No phone service' else row[col],\n",
        "            axis=1\n",
        "        )\n",
        "\n",
        "\n",
        "\n",
        "print(\"Verificação após a correção:\")\n",
        "print(\"\\nValores Ausentes:\")\n",
        "print(df_normalizado.isnull().sum())\n",
        "\n",
        "print(\"\\nVerificando Inconsistências em Colunas Categóricas (após correção):\")\n",
        "categorical_cols = df_normalizado.select_dtypes(include='category').columns\n",
        "for col in categorical_cols:\n",
        "    print(f\"\\nColuna: {col}\")\n",
        "    print(df_normalizado[col].value_counts())\n",
        "\n",
        "print(\"\\nVerificando Inconsistências em Colunas de Objeto (após correção):\")\n",
        "object_cols = df_normalizado.select_dtypes(include='object').columns\n",
        "for col in object_cols:\n",
        "    print(f\"\\nColuna: {col}\")\n",
        "    print(df_normalizado[col].value_counts())\n",
        "\n",
        "\n",
        "print(\"\\nVerificando a coluna Churn após preencher NaNs:\")\n",
        "print(df_normalizado['Churn'].value_counts()) "
      ]
    },
    {
      "cell_type": "markdown",
      "metadata": {
        "id": "6XnTC2NTmMRL"
      },
      "source": [
        "#📊 Carga e análise"
      ]
    },
    {
      "cell_type": "code",
      "execution_count": null,
      "metadata": {
        "id": "1jgUnLqTmPdd"
      },
      "outputs": [],
      "source": []
    },
    {
      "cell_type": "markdown",
      "metadata": {
        "id": "v-WzfSvTmaw9"
      },
      "source": [
        "#📄Relatorio Final"
      ]
    },
    {
      "cell_type": "code",
      "execution_count": null,
      "metadata": {
        "id": "XMTac0YJmeK9"
      },
      "outputs": [],
      "source": []
    }
  ],
  "metadata": {
    "colab": {
      "provenance": []
    },
    "kernelspec": {
      "display_name": "Python 3",
      "name": "python3"
    },
    "language_info": {
      "codemirror_mode": {
        "name": "ipython",
        "version": 3
      },
      "file_extension": ".py",
      "mimetype": "text/x-python",
      "name": "python",
      "nbconvert_exporter": "python",
      "pygments_lexer": "ipython3",
      "version": "3.10.12"
    }
  },
  "nbformat": 4,
  "nbformat_minor": 0
}
