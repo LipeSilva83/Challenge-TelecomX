{
  "cells": [
    {
      "cell_type": "markdown",
      "metadata": {
        "id": "4foVEKhrlqcH"
      },
      "source": [
        "#📌 Extracão"
      ]
    },
    {
      "cell_type": "code",
      "execution_count": null,
      "metadata": {},
      "outputs": [],
      "source": [
        "!pip install pandas\n",
        "!pip install matplotlib seaborn\n",
        "!pip install numpy"
      ]
    },
    {
      "cell_type": "code",
      "execution_count": 2,
      "metadata": {},
      "outputs": [],
      "source": [
        "import pandas as pd\n",
        "import matplotlib.pyplot as plt\n",
        "import seaborn as sns\n",
        "import numpy as np\n",
        "import json"
      ]
    },
    {
      "cell_type": "code",
      "execution_count": null,
      "metadata": {
        "id": "1--uPM88l7JH"
      },
      "outputs": [],
      "source": [
        "df = pd.read_json('https://raw.githubusercontent.com/alura-cursos/challenge2-data-science/refs/heads/main/TelecomX_Data.json')\n",
        "df.head()"
      ]
    },
    {
      "cell_type": "markdown",
      "metadata": {
        "id": "1lSZP8zmmGZu"
      },
      "source": [
        "#🔧 Transformação"
      ]
    },
    {
      "cell_type": "code",
      "execution_count": null,
      "metadata": {
        "id": "bsm-WTLjmHvt"
      },
      "outputs": [],
      "source": [
        "df_norm_customer  = pd.json_normalize(df['customer'])\n",
        "df_norm_internet  = pd.json_normalize(df['internet'])\n",
        "df_norm_phone  = pd.json_normalize(df['phone'])\n",
        "df_norm_account = pd.json_normalize(df['account'])\n",
        "\n",
        "df_normalizado = pd.concat([df[['customerID', 'Churn']], df_norm_customer, df_norm_phone, df_norm_internet , df_norm_account], axis=1)\n",
        "display(df_normalizado.head())   \n"
      ]
    },
    {
      "cell_type": "code",
      "execution_count": null,
      "metadata": {},
      "outputs": [],
      "source": [
        "df_normalizado[['Churn', 'SeniorCitizen','gender','Partner','Dependents','PhoneService','MultipleLines','OnlineBackup','DeviceProtection','TechSupport','StreamingTV','StreamingMovies','PaperlessBilling']] = df_normalizado[['Churn','SeniorCitizen' , 'gender','Partner','Dependents','PhoneService','MultipleLines','OnlineBackup','DeviceProtection','TechSupport','StreamingTV','StreamingMovies','PaperlessBilling']].astype('category')\n",
        "df_normalizado.info()"
      ]
    },
    {
      "cell_type": "code",
      "execution_count": null,
      "metadata": {},
      "outputs": [],
      "source": [
        "new_column_names = {\n",
        "    'tenure': 'Ternure',\n",
        "    'Charges.Monthly': 'ChargesMonthly',\n",
        "    'Charges.Total': 'ChargesTotal',\n",
        "    'gender': 'Gender'\n",
        "}\n",
        "\n",
        "df_normalizado = df_normalizado.rename(columns=new_column_names)\n",
        "\n",
        "display(df_normalizado.head())"
      ]
    },
    {
      "cell_type": "code",
      "execution_count": null,
      "metadata": {},
      "outputs": [],
      "source": [
        "print(\"Valores Ausentes:\")\n",
        "print(df_normalizado.isnull().sum())\n",
        "\n",
        "print(\"\\nLinhas Duplicadas:\")\n",
        "print(df_normalizado.duplicated().sum())\n",
        "\n",
        "\n",
        "print(\"\\nVerificando Inconsistências em Colunas Categóricas:\")\n",
        "categorical_cols = df_normalizado.select_dtypes(include='category').columns\n",
        "for col in categorical_cols:\n",
        "    print(f\"\\nColuna: {col}\")\n",
        "    print(df_normalizado[col].value_counts())\n",
        "\n",
        "object_cols = df_normalizado.select_dtypes(include='object').columns\n",
        "print(\"\\nVerificando Inconsistências em Colunas de Objeto:\")\n",
        "for col in object_cols:\n",
        "    print(f\"\\nColuna: {col}\")\n",
        "    print(df_normalizado[col].value_counts())"
      ]
    },
    {
      "cell_type": "code",
      "execution_count": null,
      "metadata": {},
      "outputs": [],
      "source": [
        "import numpy as np\n",
        "\n",
        "\n",
        "df_normalizado['ChargesTotal'] = df_normalizado['ChargesTotal'].replace(' ', np.nan)\n",
        "df_normalizado['ChargesTotal'] = pd.to_numeric(df_normalizado['ChargesTotal'])\n",
        "df_normalizado['ChargesTotal'] = df_normalizado['ChargesTotal'].fillna(0)\n",
        "\n",
        "df_normalizado['Churn'] = df_normalizado['Churn'].replace('', np.nan)\n",
        "df_normalizado['Churn'] = df_normalizado['Churn'].fillna('No')\n",
        "\n",
        "\n",
        "df_normalizado[col] = df_normalizado.apply(\n",
        "   lambda row: 'No' if row['InternetService'] == 'No' and row[col] == 'No internet service' else row[col],\n",
        "        axis=1\n",
        "    )\n",
        "\n",
        "df_normalizado[col] = df_normalizado.apply(\n",
        "    lambda row: 'No' if row['PhoneService'] == 'No' and row[col] == 'No phone service' else row[col],\n",
        "            axis=1\n",
        "        )\n",
        "\n",
        "\n",
        "\n",
        "print(\"Verificação após a correção:\")\n",
        "print(\"\\nValores Ausentes:\")\n",
        "print(df_normalizado.isnull().sum())\n",
        "\n",
        "print(\"\\nVerificando Inconsistências em Colunas Categóricas (após correção):\")\n",
        "categorical_cols = df_normalizado.select_dtypes(include='category').columns\n",
        "for col in categorical_cols:\n",
        "    print(f\"\\nColuna: {col}\")\n",
        "    print(df_normalizado[col].value_counts())\n",
        "\n",
        "print(\"\\nVerificando Inconsistências em Colunas de Objeto (após correção):\")\n",
        "object_cols = df_normalizado.select_dtypes(include='object').columns\n",
        "for col in object_cols:\n",
        "    print(f\"\\nColuna: {col}\")\n",
        "    print(df_normalizado[col].value_counts())\n",
        "\n",
        "\n",
        "print(\"\\nVerificando a coluna Churn após preencher NaNs:\")\n",
        "print(df_normalizado['Churn'].value_counts()) "
      ]
    },
    {
      "cell_type": "code",
      "execution_count": 11,
      "metadata": {},
      "outputs": [
        {
          "data": {
            "text/html": [
              "<div>\n",
              "<style scoped>\n",
              "    .dataframe tbody tr th:only-of-type {\n",
              "        vertical-align: middle;\n",
              "    }\n",
              "\n",
              "    .dataframe tbody tr th {\n",
              "        vertical-align: top;\n",
              "    }\n",
              "\n",
              "    .dataframe thead th {\n",
              "        text-align: right;\n",
              "    }\n",
              "</style>\n",
              "<table border=\"1\" class=\"dataframe\">\n",
              "  <thead>\n",
              "    <tr style=\"text-align: right;\">\n",
              "      <th></th>\n",
              "      <th>customerID</th>\n",
              "      <th>Churn</th>\n",
              "      <th>Gender</th>\n",
              "      <th>SeniorCitizen</th>\n",
              "      <th>Partner</th>\n",
              "      <th>Dependents</th>\n",
              "      <th>Ternure</th>\n",
              "      <th>PhoneService</th>\n",
              "      <th>MultipleLines</th>\n",
              "      <th>InternetService</th>\n",
              "      <th>...</th>\n",
              "      <th>DeviceProtection</th>\n",
              "      <th>TechSupport</th>\n",
              "      <th>StreamingTV</th>\n",
              "      <th>StreamingMovies</th>\n",
              "      <th>Contract</th>\n",
              "      <th>PaperlessBilling</th>\n",
              "      <th>PaymentMethod</th>\n",
              "      <th>ChargesMonthly</th>\n",
              "      <th>ChargesTotal</th>\n",
              "      <th>Contas_Diarias</th>\n",
              "    </tr>\n",
              "  </thead>\n",
              "  <tbody>\n",
              "    <tr>\n",
              "      <th>0</th>\n",
              "      <td>0002-ORFBO</td>\n",
              "      <td>No</td>\n",
              "      <td>Female</td>\n",
              "      <td>0</td>\n",
              "      <td>Yes</td>\n",
              "      <td>Yes</td>\n",
              "      <td>9</td>\n",
              "      <td>Yes</td>\n",
              "      <td>No</td>\n",
              "      <td>DSL</td>\n",
              "      <td>...</td>\n",
              "      <td>No</td>\n",
              "      <td>Yes</td>\n",
              "      <td>Yes</td>\n",
              "      <td>No</td>\n",
              "      <td>One year</td>\n",
              "      <td>Yes</td>\n",
              "      <td>Mailed check</td>\n",
              "      <td>65.6</td>\n",
              "      <td>593.30</td>\n",
              "      <td>2.186667</td>\n",
              "    </tr>\n",
              "    <tr>\n",
              "      <th>1</th>\n",
              "      <td>0003-MKNFE</td>\n",
              "      <td>No</td>\n",
              "      <td>Male</td>\n",
              "      <td>0</td>\n",
              "      <td>No</td>\n",
              "      <td>No</td>\n",
              "      <td>9</td>\n",
              "      <td>Yes</td>\n",
              "      <td>Yes</td>\n",
              "      <td>DSL</td>\n",
              "      <td>...</td>\n",
              "      <td>No</td>\n",
              "      <td>No</td>\n",
              "      <td>No</td>\n",
              "      <td>Yes</td>\n",
              "      <td>Month-to-month</td>\n",
              "      <td>No</td>\n",
              "      <td>Mailed check</td>\n",
              "      <td>59.9</td>\n",
              "      <td>542.40</td>\n",
              "      <td>1.996667</td>\n",
              "    </tr>\n",
              "    <tr>\n",
              "      <th>2</th>\n",
              "      <td>0004-TLHLJ</td>\n",
              "      <td>Yes</td>\n",
              "      <td>Male</td>\n",
              "      <td>0</td>\n",
              "      <td>No</td>\n",
              "      <td>No</td>\n",
              "      <td>4</td>\n",
              "      <td>Yes</td>\n",
              "      <td>No</td>\n",
              "      <td>Fiber optic</td>\n",
              "      <td>...</td>\n",
              "      <td>Yes</td>\n",
              "      <td>No</td>\n",
              "      <td>No</td>\n",
              "      <td>No</td>\n",
              "      <td>Month-to-month</td>\n",
              "      <td>Yes</td>\n",
              "      <td>Electronic check</td>\n",
              "      <td>73.9</td>\n",
              "      <td>280.85</td>\n",
              "      <td>2.463333</td>\n",
              "    </tr>\n",
              "    <tr>\n",
              "      <th>3</th>\n",
              "      <td>0011-IGKFF</td>\n",
              "      <td>Yes</td>\n",
              "      <td>Male</td>\n",
              "      <td>1</td>\n",
              "      <td>Yes</td>\n",
              "      <td>No</td>\n",
              "      <td>13</td>\n",
              "      <td>Yes</td>\n",
              "      <td>No</td>\n",
              "      <td>Fiber optic</td>\n",
              "      <td>...</td>\n",
              "      <td>Yes</td>\n",
              "      <td>No</td>\n",
              "      <td>Yes</td>\n",
              "      <td>Yes</td>\n",
              "      <td>Month-to-month</td>\n",
              "      <td>Yes</td>\n",
              "      <td>Electronic check</td>\n",
              "      <td>98.0</td>\n",
              "      <td>1237.85</td>\n",
              "      <td>3.266667</td>\n",
              "    </tr>\n",
              "    <tr>\n",
              "      <th>4</th>\n",
              "      <td>0013-EXCHZ</td>\n",
              "      <td>Yes</td>\n",
              "      <td>Female</td>\n",
              "      <td>1</td>\n",
              "      <td>Yes</td>\n",
              "      <td>No</td>\n",
              "      <td>3</td>\n",
              "      <td>Yes</td>\n",
              "      <td>No</td>\n",
              "      <td>Fiber optic</td>\n",
              "      <td>...</td>\n",
              "      <td>No</td>\n",
              "      <td>Yes</td>\n",
              "      <td>Yes</td>\n",
              "      <td>No</td>\n",
              "      <td>Month-to-month</td>\n",
              "      <td>Yes</td>\n",
              "      <td>Mailed check</td>\n",
              "      <td>83.9</td>\n",
              "      <td>267.40</td>\n",
              "      <td>2.796667</td>\n",
              "    </tr>\n",
              "  </tbody>\n",
              "</table>\n",
              "<p>5 rows × 22 columns</p>\n",
              "</div>"
            ],
            "text/plain": [
              "   customerID Churn  Gender SeniorCitizen Partner Dependents  Ternure  \\\n",
              "0  0002-ORFBO    No  Female             0     Yes        Yes        9   \n",
              "1  0003-MKNFE    No    Male             0      No         No        9   \n",
              "2  0004-TLHLJ   Yes    Male             0      No         No        4   \n",
              "3  0011-IGKFF   Yes    Male             1     Yes         No       13   \n",
              "4  0013-EXCHZ   Yes  Female             1     Yes         No        3   \n",
              "\n",
              "  PhoneService MultipleLines InternetService  ... DeviceProtection  \\\n",
              "0          Yes            No             DSL  ...               No   \n",
              "1          Yes           Yes             DSL  ...               No   \n",
              "2          Yes            No     Fiber optic  ...              Yes   \n",
              "3          Yes            No     Fiber optic  ...              Yes   \n",
              "4          Yes            No     Fiber optic  ...               No   \n",
              "\n",
              "  TechSupport StreamingTV StreamingMovies        Contract PaperlessBilling  \\\n",
              "0         Yes         Yes              No        One year              Yes   \n",
              "1          No          No             Yes  Month-to-month               No   \n",
              "2          No          No              No  Month-to-month              Yes   \n",
              "3          No         Yes             Yes  Month-to-month              Yes   \n",
              "4         Yes         Yes              No  Month-to-month              Yes   \n",
              "\n",
              "      PaymentMethod ChargesMonthly ChargesTotal  Contas_Diarias  \n",
              "0      Mailed check           65.6       593.30        2.186667  \n",
              "1      Mailed check           59.9       542.40        1.996667  \n",
              "2  Electronic check           73.9       280.85        2.463333  \n",
              "3  Electronic check           98.0      1237.85        3.266667  \n",
              "4      Mailed check           83.9       267.40        2.796667  \n",
              "\n",
              "[5 rows x 22 columns]"
            ]
          },
          "metadata": {},
          "output_type": "display_data"
        }
      ],
      "source": [
        "df_normalizado['Contas_Diarias'] = df_normalizado['ChargesMonthly'] / 30\n",
        "display(df_normalizado.head())"
      ]
    },
    {
      "cell_type": "markdown",
      "metadata": {
        "id": "6XnTC2NTmMRL"
      },
      "source": [
        "#📊 Carga e análise"
      ]
    },
    {
      "cell_type": "code",
      "execution_count": null,
      "metadata": {
        "id": "1jgUnLqTmPdd"
      },
      "outputs": [],
      "source": []
    },
    {
      "cell_type": "markdown",
      "metadata": {
        "id": "v-WzfSvTmaw9"
      },
      "source": [
        "#📄Relatorio Final"
      ]
    },
    {
      "cell_type": "code",
      "execution_count": null,
      "metadata": {
        "id": "XMTac0YJmeK9"
      },
      "outputs": [],
      "source": []
    }
  ],
  "metadata": {
    "colab": {
      "provenance": []
    },
    "kernelspec": {
      "display_name": "Python 3",
      "name": "python3"
    },
    "language_info": {
      "codemirror_mode": {
        "name": "ipython",
        "version": 3
      },
      "file_extension": ".py",
      "mimetype": "text/x-python",
      "name": "python",
      "nbconvert_exporter": "python",
      "pygments_lexer": "ipython3",
      "version": "3.10.12"
    }
  },
  "nbformat": 4,
  "nbformat_minor": 0
}
